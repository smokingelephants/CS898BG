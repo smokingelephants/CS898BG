{
  "nbformat": 4,
  "nbformat_minor": 0,
  "metadata": {
    "colab": {
      "provenance": [],
      "gpuType": "T4",
      "authorship_tag": "ABX9TyNLZvzWt01t7mzQc9qJE4Pk",
      "include_colab_link": true
    },
    "kernelspec": {
      "name": "python3",
      "display_name": "Python 3"
    },
    "language_info": {
      "name": "python"
    },
    "accelerator": "GPU"
  },
  "cells": [
    {
      "cell_type": "markdown",
      "metadata": {
        "id": "view-in-github",
        "colab_type": "text"
      },
      "source": [
        "<a href=\"https://colab.research.google.com/github/smokingelephants/CS898BG/blob/main/basic_tf_v0.ipynb\" target=\"_parent\"><img src=\"https://colab.research.google.com/assets/colab-badge.svg\" alt=\"Open In Colab\"/></a>"
      ]
    },
    {
      "cell_type": "code",
      "execution_count": 1,
      "metadata": {
        "id": "1YdkzYmspDMZ"
      },
      "outputs": [],
      "source": [
        "# import the necessary packages\n",
        "from sklearn.preprocessing import LabelBinarizer\n",
        "from sklearn.metrics import classification_report\n",
        "from tensorflow.keras.models import Sequential\n",
        "from tensorflow.keras.layers import Dense, concatenate\n",
        "from tensorflow.keras.optimizers import SGD\n",
        "from tensorflow.keras.datasets import mnist\n",
        "from tensorflow.keras import backend as K\n",
        "from tensorflow.keras import Model\n",
        "import matplotlib.pyplot as plt\n",
        "import numpy as np\n",
        "#import argparse"
      ]
    },
    {
      "cell_type": "code",
      "source": [
        "# grab the MNIST dataset (if this is your first time using this\n",
        "# dataset then the 11MB download may take a minute)\n",
        "print(\"[INFO] accessing MNIST...\")\n",
        "((trainX, trainY), (testX, testY)) = mnist.load_data()\n",
        "# each image in the MNIST dataset is represented as a 28x28x1\n",
        "# image, but in order to apply a standard neural network we must\n",
        "# first \"flatten\" the image to be simple list of 28x28=784 pixels\n",
        "trainX = trainX.reshape((trainX.shape[0], 28 * 28 * 1))\n",
        "testX = testX.reshape((testX.shape[0], 28 * 28 * 1))\n",
        "# scale data to the range of [0, 1]\n",
        "trainX = trainX.astype(\"float32\") / 255.0\n",
        "testX = testX.astype(\"float32\") / 255.0"
      ],
      "metadata": {
        "colab": {
          "base_uri": "https://localhost:8080/"
        },
        "id": "JoEZLTG6pIvZ",
        "outputId": "65108656-deaa-4c6a-8d09-2387f01670eb"
      },
      "execution_count": 2,
      "outputs": [
        {
          "output_type": "stream",
          "name": "stdout",
          "text": [
            "[INFO] accessing MNIST...\n"
          ]
        }
      ]
    },
    {
      "cell_type": "code",
      "source": [
        "# convert the labels from integers to vectors\n",
        "lb = LabelBinarizer()\n",
        "trainY = lb.fit_transform(trainY)\n",
        "testY = lb.transform(testY)"
      ],
      "metadata": {
        "id": "ZWrUJMNnpMZa"
      },
      "execution_count": 3,
      "outputs": []
    },
    {
      "cell_type": "code",
      "source": [
        "# #Implementing feedforward neural networks with Keras and TensorFlow\n",
        "# # define the 784-256-128-10 architecture using Keras\n",
        "# model = Sequential()\n",
        "# model.add(Dense(256, input_shape=(784,), activation=\"sigmoid\"))\n",
        "# model.add(Dense(128, activation=\"sigmoid\"))\n",
        "# model.add(Dense(10, activation=\"softmax\"))"
      ],
      "metadata": {
        "id": "I9v1BxANpP02"
      },
      "execution_count": 4,
      "outputs": []
    },
    {
      "cell_type": "code",
      "source": [
        "class MyModel(Model):\n",
        "  def __init__(self):\n",
        "    super(MyModel, self).__init__()\n",
        "    self.h0 = Dense(6, activation='sigmoid')\n",
        "    self.h1_0 = Dense(4, activation='sigmoid')\n",
        "    self.h1_1 = Dense(4, activation='sigmoid')\n",
        "    self.h2_0 = Dense(3, activation='sigmoid')\n",
        "    self.h2_1 = Dense(3, activation='sigmoid')\n",
        "    self.h3 = Dense(5, activation='sigmoid')\n",
        "    self.o0 = Dense(10, activation=\"softmax\")\n",
        "\n",
        "  def call(self, x):\n",
        "    x = self.h0(x)\n",
        "    x1_0 = self.h1_0(x)\n",
        "    x1_1 = self.h1_1(x)\n",
        "    x2_0 = self.h2_0(x1_0)\n",
        "    x2_1 = self.h2_1(x1_1)\n",
        "    merged = concatenate([x2_0, x2_1])\n",
        "    x = self.h3(merged)\n",
        "\n",
        "    x = self.o0(x)\n",
        "    return x\n",
        "\n",
        "# Create an instance of the model\n",
        "model = MyModel()\n"
      ],
      "metadata": {
        "id": "IEMjZ8k7saBw"
      },
      "execution_count": 5,
      "outputs": []
    },
    {
      "cell_type": "code",
      "source": [
        "#Implementing feedforward neural networks with Keras and TensorFlow\n",
        "# train the model using SGD\n",
        "print(\"[INFO] training network...\")\n",
        "sgd = SGD(0.01)\n",
        "model.compile(loss=\"categorical_crossentropy\", optimizer=sgd,\n",
        "\tmetrics=[\"accuracy\"])\n",
        "H = model.fit(trainX, trainY, validation_data=(testX, testY),\n",
        "\tepochs=100, batch_size=128)"
      ],
      "metadata": {
        "colab": {
          "base_uri": "https://localhost:8080/"
        },
        "id": "5uKbszzPpULV",
        "outputId": "05b4be18-4582-41fa-de2a-ad3e81a88446"
      },
      "execution_count": 6,
      "outputs": [
        {
          "output_type": "stream",
          "name": "stdout",
          "text": [
            "[INFO] training network...\n",
            "Epoch 1/100\n",
            "469/469 [==============================] - 10s 9ms/step - loss: 2.3359 - accuracy: 0.0993 - val_loss: 2.3087 - val_accuracy: 0.1032\n",
            "Epoch 2/100\n",
            "469/469 [==============================] - 4s 8ms/step - loss: 2.3046 - accuracy: 0.1079 - val_loss: 2.3017 - val_accuracy: 0.1135\n",
            "Epoch 3/100\n",
            "469/469 [==============================] - 4s 9ms/step - loss: 2.3015 - accuracy: 0.1124 - val_loss: 2.3009 - val_accuracy: 0.1135\n",
            "Epoch 4/100\n",
            "469/469 [==============================] - 3s 6ms/step - loss: 2.3011 - accuracy: 0.1124 - val_loss: 2.3008 - val_accuracy: 0.1135\n",
            "Epoch 5/100\n",
            "469/469 [==============================] - 2s 4ms/step - loss: 2.3010 - accuracy: 0.1124 - val_loss: 2.3007 - val_accuracy: 0.1135\n",
            "Epoch 6/100\n",
            "469/469 [==============================] - 2s 5ms/step - loss: 2.3010 - accuracy: 0.1124 - val_loss: 2.3007 - val_accuracy: 0.1135\n",
            "Epoch 7/100\n",
            "469/469 [==============================] - 2s 5ms/step - loss: 2.3009 - accuracy: 0.1124 - val_loss: 2.3006 - val_accuracy: 0.1135\n",
            "Epoch 8/100\n",
            "469/469 [==============================] - 3s 6ms/step - loss: 2.3008 - accuracy: 0.1124 - val_loss: 2.3005 - val_accuracy: 0.1135\n",
            "Epoch 9/100\n",
            "469/469 [==============================] - 2s 5ms/step - loss: 2.3007 - accuracy: 0.1124 - val_loss: 2.3004 - val_accuracy: 0.1135\n",
            "Epoch 10/100\n",
            "469/469 [==============================] - 2s 5ms/step - loss: 2.3007 - accuracy: 0.1124 - val_loss: 2.3004 - val_accuracy: 0.1135\n",
            "Epoch 11/100\n",
            "469/469 [==============================] - 2s 5ms/step - loss: 2.3006 - accuracy: 0.1124 - val_loss: 2.3003 - val_accuracy: 0.1135\n",
            "Epoch 12/100\n",
            "469/469 [==============================] - 2s 5ms/step - loss: 2.3005 - accuracy: 0.1124 - val_loss: 2.3002 - val_accuracy: 0.1135\n",
            "Epoch 13/100\n",
            "469/469 [==============================] - 3s 6ms/step - loss: 2.3004 - accuracy: 0.1124 - val_loss: 2.3001 - val_accuracy: 0.1135\n",
            "Epoch 14/100\n",
            "469/469 [==============================] - 2s 5ms/step - loss: 2.3003 - accuracy: 0.1124 - val_loss: 2.3001 - val_accuracy: 0.1135\n",
            "Epoch 15/100\n",
            "469/469 [==============================] - 2s 4ms/step - loss: 2.3002 - accuracy: 0.1124 - val_loss: 2.3000 - val_accuracy: 0.1135\n",
            "Epoch 16/100\n",
            "469/469 [==============================] - 2s 5ms/step - loss: 2.3001 - accuracy: 0.1124 - val_loss: 2.2999 - val_accuracy: 0.1135\n",
            "Epoch 17/100\n",
            "469/469 [==============================] - 2s 4ms/step - loss: 2.3000 - accuracy: 0.1124 - val_loss: 2.2998 - val_accuracy: 0.1135\n",
            "Epoch 18/100\n",
            "469/469 [==============================] - 2s 5ms/step - loss: 2.3000 - accuracy: 0.1124 - val_loss: 2.2997 - val_accuracy: 0.1135\n",
            "Epoch 19/100\n",
            "469/469 [==============================] - 3s 6ms/step - loss: 2.2998 - accuracy: 0.1124 - val_loss: 2.2995 - val_accuracy: 0.1135\n",
            "Epoch 20/100\n",
            "469/469 [==============================] - 2s 5ms/step - loss: 2.2997 - accuracy: 0.1124 - val_loss: 2.2994 - val_accuracy: 0.1135\n",
            "Epoch 21/100\n",
            "469/469 [==============================] - 2s 5ms/step - loss: 2.2996 - accuracy: 0.1124 - val_loss: 2.2993 - val_accuracy: 0.1135\n",
            "Epoch 22/100\n",
            "469/469 [==============================] - 2s 4ms/step - loss: 2.2995 - accuracy: 0.1124 - val_loss: 2.2992 - val_accuracy: 0.1135\n",
            "Epoch 23/100\n",
            "469/469 [==============================] - 2s 4ms/step - loss: 2.2993 - accuracy: 0.1124 - val_loss: 2.2990 - val_accuracy: 0.1135\n",
            "Epoch 24/100\n",
            "469/469 [==============================] - 3s 5ms/step - loss: 2.2992 - accuracy: 0.1124 - val_loss: 2.2989 - val_accuracy: 0.1135\n",
            "Epoch 25/100\n",
            "469/469 [==============================] - 2s 5ms/step - loss: 2.2991 - accuracy: 0.1124 - val_loss: 2.2987 - val_accuracy: 0.1135\n",
            "Epoch 26/100\n",
            "469/469 [==============================] - 2s 5ms/step - loss: 2.2989 - accuracy: 0.1124 - val_loss: 2.2985 - val_accuracy: 0.1135\n",
            "Epoch 27/100\n",
            "469/469 [==============================] - 2s 5ms/step - loss: 2.2987 - accuracy: 0.1124 - val_loss: 2.2984 - val_accuracy: 0.1135\n",
            "Epoch 28/100\n",
            "469/469 [==============================] - 2s 5ms/step - loss: 2.2985 - accuracy: 0.1124 - val_loss: 2.2982 - val_accuracy: 0.1135\n",
            "Epoch 29/100\n",
            "469/469 [==============================] - 2s 5ms/step - loss: 2.2983 - accuracy: 0.1124 - val_loss: 2.2980 - val_accuracy: 0.1135\n",
            "Epoch 30/100\n",
            "469/469 [==============================] - 3s 5ms/step - loss: 2.2981 - accuracy: 0.1124 - val_loss: 2.2977 - val_accuracy: 0.1135\n",
            "Epoch 31/100\n",
            "469/469 [==============================] - 2s 4ms/step - loss: 2.2978 - accuracy: 0.1124 - val_loss: 2.2975 - val_accuracy: 0.1135\n",
            "Epoch 32/100\n",
            "469/469 [==============================] - 2s 4ms/step - loss: 2.2976 - accuracy: 0.1124 - val_loss: 2.2971 - val_accuracy: 0.1135\n",
            "Epoch 33/100\n",
            "469/469 [==============================] - 2s 4ms/step - loss: 2.2973 - accuracy: 0.1124 - val_loss: 2.2969 - val_accuracy: 0.1135\n",
            "Epoch 34/100\n",
            "469/469 [==============================] - 2s 5ms/step - loss: 2.2969 - accuracy: 0.1124 - val_loss: 2.2965 - val_accuracy: 0.1135\n",
            "Epoch 35/100\n",
            "469/469 [==============================] - 3s 6ms/step - loss: 2.2966 - accuracy: 0.1124 - val_loss: 2.2961 - val_accuracy: 0.1135\n",
            "Epoch 36/100\n",
            "469/469 [==============================] - 2s 5ms/step - loss: 2.2962 - accuracy: 0.1124 - val_loss: 2.2957 - val_accuracy: 0.1135\n",
            "Epoch 37/100\n",
            "469/469 [==============================] - 2s 5ms/step - loss: 2.2958 - accuracy: 0.1124 - val_loss: 2.2953 - val_accuracy: 0.1135\n",
            "Epoch 38/100\n",
            "469/469 [==============================] - 2s 5ms/step - loss: 2.2953 - accuracy: 0.1124 - val_loss: 2.2947 - val_accuracy: 0.1135\n",
            "Epoch 39/100\n",
            "469/469 [==============================] - 2s 5ms/step - loss: 2.2947 - accuracy: 0.1124 - val_loss: 2.2941 - val_accuracy: 0.1135\n",
            "Epoch 40/100\n",
            "469/469 [==============================] - 2s 5ms/step - loss: 2.2941 - accuracy: 0.1124 - val_loss: 2.2934 - val_accuracy: 0.1135\n",
            "Epoch 41/100\n",
            "469/469 [==============================] - 3s 5ms/step - loss: 2.2934 - accuracy: 0.1124 - val_loss: 2.2926 - val_accuracy: 0.1135\n",
            "Epoch 42/100\n",
            "469/469 [==============================] - 2s 4ms/step - loss: 2.2926 - accuracy: 0.1124 - val_loss: 2.2918 - val_accuracy: 0.1135\n",
            "Epoch 43/100\n",
            "469/469 [==============================] - 2s 5ms/step - loss: 2.2916 - accuracy: 0.1127 - val_loss: 2.2908 - val_accuracy: 0.1135\n",
            "Epoch 44/100\n",
            "469/469 [==============================] - 3s 6ms/step - loss: 2.2905 - accuracy: 0.1124 - val_loss: 2.2896 - val_accuracy: 0.1135\n",
            "Epoch 45/100\n",
            "469/469 [==============================] - 2s 5ms/step - loss: 2.2893 - accuracy: 0.1164 - val_loss: 2.2882 - val_accuracy: 0.1135\n",
            "Epoch 46/100\n",
            "469/469 [==============================] - 3s 6ms/step - loss: 2.2878 - accuracy: 0.1130 - val_loss: 2.2866 - val_accuracy: 0.1176\n",
            "Epoch 47/100\n",
            "469/469 [==============================] - 2s 4ms/step - loss: 2.2861 - accuracy: 0.1201 - val_loss: 2.2847 - val_accuracy: 0.1505\n",
            "Epoch 48/100\n",
            "469/469 [==============================] - 3s 5ms/step - loss: 2.2840 - accuracy: 0.1540 - val_loss: 2.2824 - val_accuracy: 0.1529\n",
            "Epoch 49/100\n",
            "469/469 [==============================] - 3s 5ms/step - loss: 2.2816 - accuracy: 0.1495 - val_loss: 2.2797 - val_accuracy: 0.1799\n",
            "Epoch 50/100\n",
            "469/469 [==============================] - 2s 5ms/step - loss: 2.2786 - accuracy: 0.1801 - val_loss: 2.2764 - val_accuracy: 0.1833\n",
            "Epoch 51/100\n",
            "469/469 [==============================] - 3s 6ms/step - loss: 2.2750 - accuracy: 0.1876 - val_loss: 2.2723 - val_accuracy: 0.1888\n",
            "Epoch 52/100\n",
            "469/469 [==============================] - 2s 5ms/step - loss: 2.2705 - accuracy: 0.1883 - val_loss: 2.2673 - val_accuracy: 0.1995\n",
            "Epoch 53/100\n",
            "469/469 [==============================] - 2s 5ms/step - loss: 2.2650 - accuracy: 0.1998 - val_loss: 2.2611 - val_accuracy: 0.2030\n",
            "Epoch 54/100\n",
            "469/469 [==============================] - 2s 4ms/step - loss: 2.2581 - accuracy: 0.2042 - val_loss: 2.2533 - val_accuracy: 0.2038\n",
            "Epoch 55/100\n",
            "469/469 [==============================] - 2s 4ms/step - loss: 2.2494 - accuracy: 0.2053 - val_loss: 2.2435 - val_accuracy: 0.2058\n",
            "Epoch 56/100\n",
            "469/469 [==============================] - 3s 5ms/step - loss: 2.2384 - accuracy: 0.2069 - val_loss: 2.2311 - val_accuracy: 0.2076\n",
            "Epoch 57/100\n",
            "469/469 [==============================] - 2s 5ms/step - loss: 2.2246 - accuracy: 0.2079 - val_loss: 2.2157 - val_accuracy: 0.2077\n",
            "Epoch 58/100\n",
            "469/469 [==============================] - 2s 5ms/step - loss: 2.2075 - accuracy: 0.2088 - val_loss: 2.1965 - val_accuracy: 0.2077\n",
            "Epoch 59/100\n",
            "469/469 [==============================] - 2s 5ms/step - loss: 2.1865 - accuracy: 0.2090 - val_loss: 2.1734 - val_accuracy: 0.2084\n",
            "Epoch 60/100\n",
            "469/469 [==============================] - 2s 5ms/step - loss: 2.1615 - accuracy: 0.2093 - val_loss: 2.1466 - val_accuracy: 0.2089\n",
            "Epoch 61/100\n",
            "469/469 [==============================] - 2s 5ms/step - loss: 2.1331 - accuracy: 0.2095 - val_loss: 2.1166 - val_accuracy: 0.2089\n",
            "Epoch 62/100\n",
            "469/469 [==============================] - 3s 6ms/step - loss: 2.1021 - accuracy: 0.2097 - val_loss: 2.0850 - val_accuracy: 0.2091\n",
            "Epoch 63/100\n",
            "469/469 [==============================] - 2s 5ms/step - loss: 2.0702 - accuracy: 0.2098 - val_loss: 2.0534 - val_accuracy: 0.2092\n",
            "Epoch 64/100\n",
            "469/469 [==============================] - 2s 5ms/step - loss: 2.0390 - accuracy: 0.2108 - val_loss: 2.0233 - val_accuracy: 0.2093\n",
            "Epoch 65/100\n",
            "469/469 [==============================] - 2s 5ms/step - loss: 2.0098 - accuracy: 0.2122 - val_loss: 1.9957 - val_accuracy: 0.2107\n",
            "Epoch 66/100\n",
            "469/469 [==============================] - 2s 5ms/step - loss: 1.9833 - accuracy: 0.2130 - val_loss: 1.9711 - val_accuracy: 0.2114\n",
            "Epoch 67/100\n",
            "469/469 [==============================] - 3s 6ms/step - loss: 1.9599 - accuracy: 0.2152 - val_loss: 1.9495 - val_accuracy: 0.2139\n",
            "Epoch 68/100\n",
            "469/469 [==============================] - 2s 5ms/step - loss: 1.9395 - accuracy: 0.2165 - val_loss: 1.9309 - val_accuracy: 0.2158\n",
            "Epoch 69/100\n",
            "469/469 [==============================] - 2s 5ms/step - loss: 1.9216 - accuracy: 0.2175 - val_loss: 1.9147 - val_accuracy: 0.2171\n",
            "Epoch 70/100\n",
            "469/469 [==============================] - 2s 4ms/step - loss: 1.9062 - accuracy: 0.2182 - val_loss: 1.9006 - val_accuracy: 0.2171\n",
            "Epoch 71/100\n",
            "469/469 [==============================] - 2s 4ms/step - loss: 1.8926 - accuracy: 0.2196 - val_loss: 1.8883 - val_accuracy: 0.2183\n",
            "Epoch 72/100\n",
            "469/469 [==============================] - 2s 5ms/step - loss: 1.8808 - accuracy: 0.2201 - val_loss: 1.8774 - val_accuracy: 0.2191\n",
            "Epoch 73/100\n",
            "469/469 [==============================] - 3s 6ms/step - loss: 1.8702 - accuracy: 0.2207 - val_loss: 1.8677 - val_accuracy: 0.2187\n",
            "Epoch 74/100\n",
            "469/469 [==============================] - 2s 4ms/step - loss: 1.8606 - accuracy: 0.2218 - val_loss: 1.8589 - val_accuracy: 0.2204\n",
            "Epoch 75/100\n",
            "469/469 [==============================] - 2s 5ms/step - loss: 1.8519 - accuracy: 0.2227 - val_loss: 1.8506 - val_accuracy: 0.2209\n",
            "Epoch 76/100\n",
            "469/469 [==============================] - 2s 5ms/step - loss: 1.8436 - accuracy: 0.2241 - val_loss: 1.8426 - val_accuracy: 0.2222\n",
            "Epoch 77/100\n",
            "469/469 [==============================] - 2s 5ms/step - loss: 1.8356 - accuracy: 0.2267 - val_loss: 1.8348 - val_accuracy: 0.2240\n",
            "Epoch 78/100\n",
            "469/469 [==============================] - 3s 6ms/step - loss: 1.8276 - accuracy: 0.2290 - val_loss: 1.8268 - val_accuracy: 0.2271\n",
            "Epoch 79/100\n",
            "469/469 [==============================] - 3s 5ms/step - loss: 1.8195 - accuracy: 0.2324 - val_loss: 1.8186 - val_accuracy: 0.2318\n",
            "Epoch 80/100\n",
            "469/469 [==============================] - 2s 5ms/step - loss: 1.8113 - accuracy: 0.2372 - val_loss: 1.8104 - val_accuracy: 0.2378\n",
            "Epoch 81/100\n",
            "469/469 [==============================] - 2s 5ms/step - loss: 1.8031 - accuracy: 0.2441 - val_loss: 1.8022 - val_accuracy: 0.2442\n",
            "Epoch 82/100\n",
            "469/469 [==============================] - 2s 5ms/step - loss: 1.7950 - accuracy: 0.2505 - val_loss: 1.7945 - val_accuracy: 0.2489\n",
            "Epoch 83/100\n",
            "469/469 [==============================] - 3s 5ms/step - loss: 1.7873 - accuracy: 0.2566 - val_loss: 1.7867 - val_accuracy: 0.2534\n",
            "Epoch 84/100\n",
            "469/469 [==============================] - 3s 6ms/step - loss: 1.7797 - accuracy: 0.2611 - val_loss: 1.7794 - val_accuracy: 0.2606\n",
            "Epoch 85/100\n",
            "469/469 [==============================] - 2s 5ms/step - loss: 1.7725 - accuracy: 0.2666 - val_loss: 1.7724 - val_accuracy: 0.2659\n",
            "Epoch 86/100\n",
            "469/469 [==============================] - 2s 5ms/step - loss: 1.7656 - accuracy: 0.2720 - val_loss: 1.7655 - val_accuracy: 0.2704\n",
            "Epoch 87/100\n",
            "469/469 [==============================] - 2s 5ms/step - loss: 1.7588 - accuracy: 0.2763 - val_loss: 1.7589 - val_accuracy: 0.2740\n",
            "Epoch 88/100\n",
            "469/469 [==============================] - 2s 5ms/step - loss: 1.7523 - accuracy: 0.2819 - val_loss: 1.7526 - val_accuracy: 0.2773\n",
            "Epoch 89/100\n",
            "469/469 [==============================] - 3s 6ms/step - loss: 1.7459 - accuracy: 0.2860 - val_loss: 1.7464 - val_accuracy: 0.2812\n",
            "Epoch 90/100\n",
            "469/469 [==============================] - 2s 5ms/step - loss: 1.7397 - accuracy: 0.2889 - val_loss: 1.7403 - val_accuracy: 0.2854\n",
            "Epoch 91/100\n",
            "469/469 [==============================] - 2s 5ms/step - loss: 1.7336 - accuracy: 0.2934 - val_loss: 1.7344 - val_accuracy: 0.2894\n",
            "Epoch 92/100\n",
            "469/469 [==============================] - 2s 5ms/step - loss: 1.7276 - accuracy: 0.2967 - val_loss: 1.7285 - val_accuracy: 0.2944\n",
            "Epoch 93/100\n",
            "469/469 [==============================] - 2s 5ms/step - loss: 1.7216 - accuracy: 0.3009 - val_loss: 1.7226 - val_accuracy: 0.2983\n",
            "Epoch 94/100\n",
            "469/469 [==============================] - 3s 6ms/step - loss: 1.7157 - accuracy: 0.3049 - val_loss: 1.7168 - val_accuracy: 0.3009\n",
            "Epoch 95/100\n",
            "469/469 [==============================] - 2s 5ms/step - loss: 1.7097 - accuracy: 0.3079 - val_loss: 1.7112 - val_accuracy: 0.3045\n",
            "Epoch 96/100\n",
            "469/469 [==============================] - 2s 5ms/step - loss: 1.7038 - accuracy: 0.3127 - val_loss: 1.7052 - val_accuracy: 0.3065\n",
            "Epoch 97/100\n",
            "469/469 [==============================] - 2s 5ms/step - loss: 1.6979 - accuracy: 0.3158 - val_loss: 1.6995 - val_accuracy: 0.3093\n",
            "Epoch 98/100\n",
            "469/469 [==============================] - 2s 5ms/step - loss: 1.6920 - accuracy: 0.3175 - val_loss: 1.6936 - val_accuracy: 0.3157\n",
            "Epoch 99/100\n",
            "469/469 [==============================] - 2s 5ms/step - loss: 1.6860 - accuracy: 0.3218 - val_loss: 1.6878 - val_accuracy: 0.3182\n",
            "Epoch 100/100\n",
            "469/469 [==============================] - 3s 6ms/step - loss: 1.6801 - accuracy: 0.3230 - val_loss: 1.6821 - val_accuracy: 0.3232\n"
          ]
        }
      ]
    },
    {
      "cell_type": "code",
      "source": [
        "model.trainable_weights"
      ],
      "metadata": {
        "colab": {
          "base_uri": "https://localhost:8080/"
        },
        "id": "1-n9xbgg3l7L",
        "outputId": "8cc747f2-d313-4c88-fc81-8b75aada47fa"
      },
      "execution_count": 7,
      "outputs": [
        {
          "output_type": "execute_result",
          "data": {
            "text/plain": [
              "[<tf.Variable 'my_model/dense/kernel:0' shape=(784, 6) dtype=float32, numpy=\n",
              " array([[ 0.05851942,  0.04840426,  0.08590589,  0.07578063, -0.05984595,\n",
              "         -0.0741769 ],\n",
              "        [-0.07966674, -0.01086608, -0.04393978,  0.01577209, -0.07559425,\n",
              "          0.00413296],\n",
              "        [ 0.03805827,  0.08409375,  0.02610597, -0.0512399 ,  0.00451924,\n",
              "         -0.03022257],\n",
              "        ...,\n",
              "        [-0.07047868,  0.06664738,  0.00366922,  0.06148815,  0.06534423,\n",
              "          0.06573103],\n",
              "        [-0.03700846,  0.02074578,  0.02018707,  0.01870146, -0.07160792,\n",
              "          0.02885106],\n",
              "        [ 0.0365172 ,  0.06832735, -0.06332532, -0.06582675,  0.04146898,\n",
              "          0.02152365]], dtype=float32)>,\n",
              " <tf.Variable 'my_model/dense/bias:0' shape=(6,) dtype=float32, numpy=\n",
              " array([-0.04718719,  0.11351114, -0.07309797, -0.11992817,  0.07850886,\n",
              "        -0.08494603], dtype=float32)>,\n",
              " <tf.Variable 'my_model/dense_1/kernel:0' shape=(6, 4) dtype=float32, numpy=\n",
              " array([[-1.5454155 , -1.1795053 ,  1.055002  , -0.7077963 ],\n",
              "        [ 1.0988314 ,  0.9410927 , -0.85131836,  1.3095288 ],\n",
              "        [-1.1471686 , -0.0298288 ,  0.9316917 , -0.58431953],\n",
              "        [-0.6907877 , -0.2672551 ,  1.4986564 , -0.5208842 ],\n",
              "        [ 1.3695569 ,  0.73766893, -1.8120652 ,  0.8369298 ],\n",
              "        [ 0.21927917, -0.9565101 ,  0.11149847, -1.0228566 ]],\n",
              "       dtype=float32)>,\n",
              " <tf.Variable 'my_model/dense_1/bias:0' shape=(4,) dtype=float32, numpy=array([-0.07402415, -0.07836058,  0.01048562, -0.01828863], dtype=float32)>,\n",
              " <tf.Variable 'my_model/dense_2/kernel:0' shape=(6, 4) dtype=float32, numpy=\n",
              " array([[ 0.9228637 , -0.22206576,  0.65127754,  0.4929215 ],\n",
              "        [-0.6371707 , -0.44625393,  0.4452431 ,  0.08095171],\n",
              "        [ 0.17080525,  0.09299873, -0.40287966, -0.03585399],\n",
              "        [-0.570703  ,  0.43716645,  0.32204416,  0.30669022],\n",
              "        [-0.8071951 , -0.1874934 ,  0.09048297, -1.1343687 ],\n",
              "        [-0.6015129 ,  0.48344433, -0.04704701,  0.33528763]],\n",
              "       dtype=float32)>,\n",
              " <tf.Variable 'my_model/dense_2/bias:0' shape=(4,) dtype=float32, numpy=array([ 0.04590493, -0.06188862, -0.01245748, -0.06144786], dtype=float32)>,\n",
              " <tf.Variable 'my_model/dense_3/kernel:0' shape=(4, 3) dtype=float32, numpy=\n",
              " array([[ 1.9115264, -1.6322012, -1.2475139],\n",
              "        [ 1.4342011, -1.2504207, -0.5184201],\n",
              "        [-2.7408917,  1.8789711,  1.9801328],\n",
              "        [ 1.4854058, -1.4143648, -0.674837 ]], dtype=float32)>,\n",
              " <tf.Variable 'my_model/dense_3/bias:0' shape=(3,) dtype=float32, numpy=array([-0.6311913 ,  0.6519354 ,  0.05540355], dtype=float32)>,\n",
              " <tf.Variable 'my_model/dense_4/kernel:0' shape=(4, 3) dtype=float32, numpy=\n",
              " array([[-0.92455876, -0.61510766,  0.14134854],\n",
              "        [ 0.85601336,  0.07055819,  0.95674485],\n",
              "        [-0.42585033,  0.17223369, -0.064788  ],\n",
              "        [-1.0234141 , -0.7086334 ,  0.99002475]], dtype=float32)>,\n",
              " <tf.Variable 'my_model/dense_4/bias:0' shape=(3,) dtype=float32, numpy=array([ 0.04784817,  0.08644547, -0.32331115], dtype=float32)>,\n",
              " <tf.Variable 'my_model/dense_5/kernel:0' shape=(6, 5) dtype=float32, numpy=\n",
              " array([[-2.0125868 , -1.7662501 ,  3.57827   , -2.1645374 ,  1.3509796 ],\n",
              "        [ 0.85381705,  1.4733822 , -2.5819018 ,  1.4845356 , -1.105387  ],\n",
              "        [ 1.77473   ,  0.8545032 , -1.0998613 ,  1.4077027 , -0.26158276],\n",
              "        [-1.0771469 , -0.33417284,  0.29373834,  0.15874325, -0.464994  ],\n",
              "        [ 0.06133654, -0.03065835,  0.57862216, -0.4249452 ,  0.26142192],\n",
              "        [ 0.948272  ,  0.29041114, -0.6174719 ,  0.52274096, -0.45517877]],\n",
              "       dtype=float32)>,\n",
              " <tf.Variable 'my_model/dense_5/bias:0' shape=(5,) dtype=float32, numpy=\n",
              " array([-0.02684518,  0.19445054,  0.40533334, -0.3805365 ,  0.23265298],\n",
              "       dtype=float32)>,\n",
              " <tf.Variable 'my_model/dense_6/kernel:0' shape=(5, 10) dtype=float32, numpy=\n",
              " array([[-1.3751928 , -0.7692239 ,  0.5667579 , -0.9283522 ,  1.1863979 ,\n",
              "         -1.316348  ,  0.928287  ,  1.1356213 , -0.12503402,  1.4003721 ],\n",
              "        [-1.0788084 , -0.61317605,  0.41786638, -1.2296494 ,  1.1972508 ,\n",
              "         -0.6603027 ,  0.920458  ,  0.7586546 , -0.26841593,  0.9324471 ],\n",
              "        [ 2.1698482 ,  2.0223136 ,  0.22833638,  1.8115971 , -2.6939862 ,\n",
              "          1.714845  , -0.94124603, -2.5227096 ,  1.263213  , -2.6965497 ],\n",
              "        [-1.2160363 , -1.3409021 ,  0.31198972, -1.1026533 ,  1.6722974 ,\n",
              "         -0.7694113 ,  0.6419364 ,  1.7648195 , -0.4296077 ,  1.0364406 ],\n",
              "        [ 0.33181956,  0.904036  ,  0.32298347,  1.131868  , -0.59323955,\n",
              "          0.5260373 ,  0.13832681, -1.1022607 ,  0.36737043, -0.23237658]],\n",
              "       dtype=float32)>,\n",
              " <tf.Variable 'my_model/dense_6/bias:0' shape=(10,) dtype=float32, numpy=\n",
              " array([ 0.24776338, -0.19341703,  0.01816911, -0.05965823, -0.42374548,\n",
              "         0.18996209, -0.02700164,  0.09677747,  0.12994611,  0.02120108],\n",
              "       dtype=float32)>]"
            ]
          },
          "metadata": {},
          "execution_count": 7
        }
      ]
    },
    {
      "cell_type": "code",
      "source": [
        "#Implementing feedforward neural networks with Keras and TensorFlow\n",
        "# evaluate the network\n",
        "print(\"[INFO] evaluating network...\")\n",
        "predictions = model.predict(testX, batch_size=128)\n",
        "print(classification_report(testY.argmax(axis=1),\n",
        "\tpredictions.argmax(axis=1),\n",
        "\ttarget_names=[str(x) for x in lb.classes_]))"
      ],
      "metadata": {
        "colab": {
          "base_uri": "https://localhost:8080/"
        },
        "id": "ue4fbZOIpZVw",
        "outputId": "1382fa8c-008f-4a9d-c7c8-525d057614be"
      },
      "execution_count": 8,
      "outputs": [
        {
          "output_type": "stream",
          "name": "stdout",
          "text": [
            "[INFO] evaluating network...\n",
            "79/79 [==============================] - 0s 2ms/step\n",
            "              precision    recall  f1-score   support\n",
            "\n",
            "           0       0.00      0.00      0.00       980\n",
            "           1       0.23      0.89      0.37      1135\n",
            "           2       0.48      0.68      0.56      1032\n",
            "           3       0.00      0.00      0.00      1010\n",
            "           4       0.00      0.00      0.00       982\n",
            "           5       0.00      0.00      0.00       892\n",
            "           6       0.66      0.45      0.53       958\n",
            "           7       0.31      0.89      0.46      1028\n",
            "           8       0.38      0.17      0.24       974\n",
            "           9       0.13      0.02      0.03      1009\n",
            "\n",
            "    accuracy                           0.32     10000\n",
            "   macro avg       0.22      0.31      0.22     10000\n",
            "weighted avg       0.22      0.32      0.22     10000\n",
            "\n"
          ]
        },
        {
          "output_type": "stream",
          "name": "stderr",
          "text": [
            "/usr/local/lib/python3.10/dist-packages/sklearn/metrics/_classification.py:1344: UndefinedMetricWarning: Precision and F-score are ill-defined and being set to 0.0 in labels with no predicted samples. Use `zero_division` parameter to control this behavior.\n",
            "  _warn_prf(average, modifier, msg_start, len(result))\n",
            "/usr/local/lib/python3.10/dist-packages/sklearn/metrics/_classification.py:1344: UndefinedMetricWarning: Precision and F-score are ill-defined and being set to 0.0 in labels with no predicted samples. Use `zero_division` parameter to control this behavior.\n",
            "  _warn_prf(average, modifier, msg_start, len(result))\n",
            "/usr/local/lib/python3.10/dist-packages/sklearn/metrics/_classification.py:1344: UndefinedMetricWarning: Precision and F-score are ill-defined and being set to 0.0 in labels with no predicted samples. Use `zero_division` parameter to control this behavior.\n",
            "  _warn_prf(average, modifier, msg_start, len(result))\n"
          ]
        }
      ]
    },
    {
      "cell_type": "code",
      "source": [
        "#Implementing feedforward neural networks with Keras and TensorFlow\n",
        "# plot the training loss and accuracy\n",
        "plt.style.use(\"ggplot\")\n",
        "plt.figure()\n",
        "plt.plot(np.arange(0, 100), H.history[\"loss\"], label=\"train_loss\")\n",
        "plt.plot(np.arange(0, 100), H.history[\"val_loss\"], label=\"val_loss\")\n",
        "plt.plot(np.arange(0, 100), H.history[\"accuracy\"], label=\"train_acc\")\n",
        "plt.plot(np.arange(0, 100), H.history[\"val_accuracy\"], label=\"val_acc\")\n",
        "plt.title(\"Training Loss and Accuracy\")\n",
        "plt.xlabel(\"Epoch #\")\n",
        "plt.ylabel(\"Loss/Accuracy\")\n",
        "plt.legend()\n",
        "#plt.savefig(args[\"output\"])"
      ],
      "metadata": {
        "colab": {
          "base_uri": "https://localhost:8080/",
          "height": 495
        },
        "id": "8DhvxW53pdM5",
        "outputId": "448f783f-c887-41fa-83ce-9ada771bd158"
      },
      "execution_count": 9,
      "outputs": [
        {
          "output_type": "execute_result",
          "data": {
            "text/plain": [
              "<matplotlib.legend.Legend at 0x7fd7f04025f0>"
            ]
          },
          "metadata": {},
          "execution_count": 9
        },
        {
          "output_type": "display_data",
          "data": {
            "text/plain": [
              "<Figure size 640x480 with 1 Axes>"
            ],
            "image/png": "[encoded data removed]"
          },
          "metadata": {}
        }
      ]
    }
  ]
}