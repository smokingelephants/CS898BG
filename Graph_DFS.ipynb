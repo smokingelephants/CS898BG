{
  "nbformat": 4,
  "nbformat_minor": 0,
  "metadata": {
    "colab": {
      "provenance": [],
      "authorship_tag": "ABX9TyOfdcLFoLMbvk3tpEvBuKr1",
      "include_colab_link": true
    },
    "kernelspec": {
      "name": "python3",
      "display_name": "Python 3"
    },
    "language_info": {
      "name": "python"
    }
  },
  "cells": [
    {
      "cell_type": "markdown",
      "metadata": {
        "id": "view-in-github",
        "colab_type": "text"
      },
      "source": [
        "<a href=\"https://colab.research.google.com/github/smokingelephants/CS898BG/blob/main/Graph_DFS.ipynb\" target=\"_parent\"><img src=\"https://colab.research.google.com/assets/colab-badge.svg\" alt=\"Open In Colab\"/></a>"
      ]
    },
    {
      "cell_type": "code",
      "execution_count": null,
      "metadata": {
        "id": "QhNNfcArwMvf"
      },
      "outputs": [],
      "source": [
        "from collections import defaultdict\n",
        "\n",
        "class Graph:\n",
        "\n",
        "    # Constructor\n",
        "    def __init__(self, vertex_list = None):\n",
        "\n",
        "        # default dictionary to store graph\n",
        "        if vertex_list is None:\n",
        "            self.graph = defaultdict(list)\n",
        "        else:\n",
        "            self.graph = {key: list([]) for key in vertex_list}\n",
        "\n",
        "        self.previsit_vals = defaultdict()\n",
        "        self.postvisit_vals = defaultdict()\n",
        "        self.counter = 1\n",
        "\n",
        "    # function to add a directed edge to graph\n",
        "    def addEdge(self, u, v):\n",
        "        self.graph[u].append(v)\n",
        "\n",
        "    #function to reverse graph\n",
        "    def getTranspose(self):\n",
        "        reverse_graph_obj = Graph()\n",
        "        reverse_graph = {key: list([]) for key in self.graph.keys()} #defaultdict(list)\n",
        "        for u in self.graph.keys():\n",
        "            for v in self.graph[u]:\n",
        "                reverse_graph[v].append(u)\n",
        "\n",
        "        reverse_graph_obj.graph = reverse_graph\n",
        "        return reverse_graph_obj\n",
        "\n",
        "    # function to add a directed edge to graph\n",
        "    def addDirectedEdge(self, u, v):\n",
        "        self.graph[u].append(v)\n",
        "\n",
        "    # function to add an undirected edge to graph\n",
        "    def addUndirectedEdge(self, u, v):\n",
        "        self.graph[u].append(v)\n",
        "        self.graph[v].append(u)\n",
        "\n",
        "    #callback function to compute before node is explored\n",
        "    def previsit(self, v, visited):\n",
        "        #print(v, end=' ')\n",
        "        self.previsit_vals[v] = self.counter\n",
        "        self.counter += 1\n",
        "\n",
        "    #callback function to compute after node is explored\n",
        "    def postvisit(self, v, visited):\n",
        "        print(v, end=' ')\n",
        "        self.postvisit_vals[v] = self.counter\n",
        "        self.counter += 1\n",
        "\n",
        "    # A function used by DFS\n",
        "    def DFSUtil(self, v, visited):\n",
        "\n",
        "        # Mark the current node as visited\n",
        "        # and print it\n",
        "        visited.add(v)\n",
        "\n",
        "        self.previsit(v, visited)   #START\n",
        "\n",
        "        # Recur for all the vertices\n",
        "        # adjacent to this vertex\n",
        "        for neighbour in self.graph[v]:\n",
        "            if neighbour not in visited:\n",
        "                self.DFSUtil(neighbour, visited)\n",
        "            else:\n",
        "                print('backward edge found', v, \":\", neighbour)\n",
        "\n",
        "        self.postvisit(v, visited)  #FINISH\n",
        "\n",
        "\n",
        "\n",
        "    # The function to do DFS traversal. It uses\n",
        "    # recursive DFSUtil()\n",
        "    def DFS(self, v):\n",
        "\n",
        "        # Create a set to store visited vertices\n",
        "        visited = set()\n",
        "\n",
        "        # Call the recursive helper function\n",
        "        # to print DFS traversal\n",
        "        print('Starting from ', v)\n",
        "        self.DFSUtil(v, visited)\n",
        "\n",
        "        print()\n",
        "\n",
        "        for vertex in self.graph.keys():\n",
        "            if vertex not in visited:\n",
        "                self.DFSUtil(vertex, visited)\n",
        "\n",
        "        print()\n",
        "\n",
        "\n",
        "\n",
        "\n"
      ]
    },
    {
      "cell_type": "markdown",
      "source": [
        "![graph.png](data:image/png;base64,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)"
      ],
      "metadata": {
        "id": "x5AX41HpyaQ6"
      }
    },
    {
      "cell_type": "code",
      "source": [
        " if __name__ == \"__main__\":\n",
        "    # Driver code\n",
        "\n",
        "\n",
        "\n",
        "    g = Graph()\n",
        "    g.addEdge('B', 'A')     #self.graph['B'].append('A')\n",
        "    g.addEdge('A', 'C')\n",
        "    g.addEdge('C', 'B')\n",
        "    g.addEdge('A', 'D')\n",
        "    g.addEdge('D', 'E')\n",
        "\n",
        "\n",
        "    print(g.graph)\n",
        "\n",
        "    print(\"DFS trace\")\n",
        "    g.DFS('A')\n",
        "    print()\n",
        "    print('pre visit values:')\n",
        "    print(g.previsit_vals)\n",
        "    print('post visit values:')\n",
        "    print(g.postvisit_vals)"
      ],
      "metadata": {
        "colab": {
          "base_uri": "https://localhost:8080/"
        },
        "id": "ioOFGp4tyUkn",
        "outputId": "3914d22a-164c-4ebf-9bf0-fcf5d43b2f8e"
      },
      "execution_count": null,
      "outputs": [
        {
          "output_type": "stream",
          "name": "stdout",
          "text": [
            "defaultdict(<class 'list'>, {'B': ['A'], 'A': ['C', 'D'], 'C': ['B'], 'D': ['E']})\n",
            "DFS trace\n",
            "Starting from  A\n",
            "backward edge found B : A\n",
            "B C E D A \n",
            "\n",
            "\n",
            "pre visit values:\n",
            "defaultdict(None, {'A': 1, 'C': 2, 'B': 3, 'D': 6, 'E': 7})\n",
            "post visit values:\n",
            "defaultdict(None, {'B': 4, 'C': 5, 'E': 8, 'D': 9, 'A': 10})\n"
          ]
        }
      ]
    }
  ]
}